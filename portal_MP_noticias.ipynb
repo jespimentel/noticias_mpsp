{
 "cells": [
  {
   "cell_type": "markdown",
   "metadata": {
    "id": "ZiXFJDtlfEyL"
   },
   "source": [
    "# Scraping de notícias do portal MPSP\n",
    "\n",
    "Na seção \"Precisamos falar sobre isso\" da edição de n. 10 do Informativo sobre o CSMP, de 05/05/2022, houve o questionamento sobre se não haveria uma exposição excessiva da pessoa do atual PGJ, Dr. Sarrubbo, nas publicações do portal Institucional.\n",
    "\n",
    "Desprezando, por enquanto, as fotografias que ilustram o site, o programa a seguir recupera as manchetes do acervo de notícias, as organiza em planilha e pesquisa quantas vezes o nome do PGJ aparece no curso de sua gestão.\n",
    "\n",
    "A automação foi feita com Python e Selenium, inicialmente no Google Colab. A organização dos dados foi feita com Pandas."
   ]
  },
  {
   "cell_type": "code",
   "execution_count": 1,
   "metadata": {
    "id": "D6v9jXA_Nxbd"
   },
   "outputs": [],
   "source": [
    "import pandas as pd\n",
    "\n",
    "import selenium\n",
    "from selenium import webdriver\n",
    "from selenium.webdriver.common.by import By\n",
    "\n",
    "from time import sleep\n",
    "from datetime import datetime"
   ]
  },
  {
   "cell_type": "code",
   "execution_count": 2,
   "metadata": {
    "id": "UyiZDZSzhzlv"
   },
   "outputs": [
    {
     "data": {
      "text/plain": [
       "'Notícias MPSP - Ministério Público do Estado de São Paulo'"
      ]
     },
     "execution_count": 2,
     "metadata": {},
     "output_type": "execute_result"
    }
   ],
   "source": [
    "wd = webdriver.Chrome()\n",
    "wd.get('https://www.mpsp.mp.br/noticias#')\n",
    "wd.title"
   ]
  },
  {
   "cell_type": "code",
   "execution_count": 3,
   "metadata": {
    "colab": {
     "base_uri": "https://localhost:8080/"
    },
    "id": "-VHm69eWqJmb",
    "outputId": "84755df2-3844-4c5a-e48d-89ad7a45b7b7"
   },
   "outputs": [],
   "source": [
    "pag_inicial = 1\n",
    "pag_final = 1579 # Última disponível no dia 08/05/2022"
   ]
  },
  {
   "cell_type": "code",
   "execution_count": 5,
   "metadata": {
    "id": "i-4emOp0Aq0P"
   },
   "outputs": [],
   "source": [
    "XPATH = '//*[@id=\"mpsp-publisher-_br_mp_mpsp_articles_web_MPSPPublisherPortlet_INSTANCE_fwnk_\"]/form/div[2]/div[2]/div'\n",
    "lista_completa = []\n",
    "for pag in range (pag_inicial, pag_final+1):\n",
    "    texto=''\n",
    "    new_url = f'https://www.mpsp.mp.br/noticias#?page={pag}'\n",
    "    wd.get(new_url)\n",
    "    sleep(3)\n",
    "    noticias = wd.find_element(By.XPATH, XPATH)\n",
    "    texto += noticias.text\n",
    "    texto = texto.split('\\n')\n",
    "    lista_parcial = []\n",
    "    n = 0\n",
    "    for elemento in texto:\n",
    "      lista_parcial.append(elemento)\n",
    "      n +=1\n",
    "      if n == 3:\n",
    "        lista_parcial.append(new_url)\n",
    "        lista_completa.append(lista_parcial)\n",
    "        n = 0\n",
    "        lista_parcial=[]\n",
    "        continue"
   ]
  },
  {
   "cell_type": "code",
   "execution_count": 6,
   "metadata": {
    "id": "excQxhJYP9Tp"
   },
   "outputs": [],
   "source": [
    "df = pd.DataFrame(lista_completa, columns=['Natureza', 'Título', 'Data', 'Url'])"
   ]
  },
  {
   "cell_type": "code",
   "execution_count": 7,
   "metadata": {
    "id": "7CHxlUHbnp9I"
   },
   "outputs": [],
   "source": [
    "def trata_data(data_str):\n",
    "  corresp = {'JAN':'01', 'FEV':'02', 'MAR':'03', 'ABR':'04', 'MAI':'05', 'JUN':'06', \n",
    "             'JUL':'07', 'AGO':'08', 'SET':'09', 'OUT':'10', 'NOV':'11', 'DEZ':'12'}\n",
    "  data_str = data_str.replace(' ', '').upper() # Ex.: 02JUN08\n",
    "  nova_data = '20'+ data_str[5:] + '-' + corresp[data_str[2:5]] + '-' + data_str[0:2]\n",
    "  return nova_data"
   ]
  },
  {
   "cell_type": "code",
   "execution_count": 8,
   "metadata": {
    "colab": {
     "base_uri": "https://localhost:8080/",
     "height": 206
    },
    "id": "3EW9cpLllil0",
    "outputId": "2058bae0-538a-44d8-d83a-95bc33779581"
   },
   "outputs": [
    {
     "data": {
      "text/html": [
       "<div>\n",
       "<style scoped>\n",
       "    .dataframe tbody tr th:only-of-type {\n",
       "        vertical-align: middle;\n",
       "    }\n",
       "\n",
       "    .dataframe tbody tr th {\n",
       "        vertical-align: top;\n",
       "    }\n",
       "\n",
       "    .dataframe thead th {\n",
       "        text-align: right;\n",
       "    }\n",
       "</style>\n",
       "<table border=\"1\" class=\"dataframe\">\n",
       "  <thead>\n",
       "    <tr style=\"text-align: right;\">\n",
       "      <th></th>\n",
       "      <th>Natureza</th>\n",
       "      <th>Título</th>\n",
       "      <th>Data</th>\n",
       "      <th>Url</th>\n",
       "    </tr>\n",
       "  </thead>\n",
       "  <tbody>\n",
       "    <tr>\n",
       "      <th>0</th>\n",
       "      <td>CRIMINAL</td>\n",
       "      <td>Condenado a 16 anos de prisão homem que matou ...</td>\n",
       "      <td>2022-05-06</td>\n",
       "      <td>https://www.mpsp.mp.br/noticias#?page=1</td>\n",
       "    </tr>\n",
       "    <tr>\n",
       "      <th>1</th>\n",
       "      <td>ADMINISTRAÇÃO SUPERIOR E GESTÃO</td>\n",
       "      <td>SISMP Digital ganha módulo PANI, para andament...</td>\n",
       "      <td>2022-05-06</td>\n",
       "      <td>https://www.mpsp.mp.br/noticias#?page=1</td>\n",
       "    </tr>\n",
       "    <tr>\n",
       "      <th>2</th>\n",
       "      <td>CRIMINAL</td>\n",
       "      <td>Em entrevista ao MPSP+, promotor de Justiça ex...</td>\n",
       "      <td>2022-05-06</td>\n",
       "      <td>https://www.mpsp.mp.br/noticias#?page=1</td>\n",
       "    </tr>\n",
       "    <tr>\n",
       "      <th>3</th>\n",
       "      <td>CRIMINAL</td>\n",
       "      <td>Denunciado por matar mulher grávida em Guarulh...</td>\n",
       "      <td>2022-05-06</td>\n",
       "      <td>https://www.mpsp.mp.br/noticias#?page=1</td>\n",
       "    </tr>\n",
       "    <tr>\n",
       "      <th>4</th>\n",
       "      <td>TUTELA COLETIVA E CÍVEL</td>\n",
       "      <td>Sede do MPSP ganha iluminação especial em camp...</td>\n",
       "      <td>2022-05-06</td>\n",
       "      <td>https://www.mpsp.mp.br/noticias#?page=1</td>\n",
       "    </tr>\n",
       "  </tbody>\n",
       "</table>\n",
       "</div>"
      ],
      "text/plain": [
       "                          Natureza  \\\n",
       "0                         CRIMINAL   \n",
       "1  ADMINISTRAÇÃO SUPERIOR E GESTÃO   \n",
       "2                         CRIMINAL   \n",
       "3                         CRIMINAL   \n",
       "4          TUTELA COLETIVA E CÍVEL   \n",
       "\n",
       "                                              Título       Data  \\\n",
       "0  Condenado a 16 anos de prisão homem que matou ... 2022-05-06   \n",
       "1  SISMP Digital ganha módulo PANI, para andament... 2022-05-06   \n",
       "2  Em entrevista ao MPSP+, promotor de Justiça ex... 2022-05-06   \n",
       "3  Denunciado por matar mulher grávida em Guarulh... 2022-05-06   \n",
       "4  Sede do MPSP ganha iluminação especial em camp... 2022-05-06   \n",
       "\n",
       "                                       Url  \n",
       "0  https://www.mpsp.mp.br/noticias#?page=1  \n",
       "1  https://www.mpsp.mp.br/noticias#?page=1  \n",
       "2  https://www.mpsp.mp.br/noticias#?page=1  \n",
       "3  https://www.mpsp.mp.br/noticias#?page=1  \n",
       "4  https://www.mpsp.mp.br/noticias#?page=1  "
      ]
     },
     "execution_count": 8,
     "metadata": {},
     "output_type": "execute_result"
    }
   ],
   "source": [
    "df['Data'] = df['Data'].apply(trata_data)\n",
    "df['Data'] = pd.to_datetime(df['Data'], format='%Y-%m-%d')\n",
    "df.head(5)"
   ]
  },
  {
   "cell_type": "code",
   "execution_count": 9,
   "metadata": {
    "id": "JKmiSoUQENYN"
   },
   "outputs": [],
   "source": [
    "df.to_excel('noticias_portal.xlsx')"
   ]
  },
  {
   "cell_type": "code",
   "execution_count": 10,
   "metadata": {
    "colab": {
     "base_uri": "https://localhost:8080/",
     "height": 455
    },
    "id": "7tna6IPsKyrG",
    "outputId": "e48be2d6-7500-4148-8e4b-fab8dd08f296"
   },
   "outputs": [
    {
     "name": "stderr",
     "output_type": "stream",
     "text": [
      "<ipython-input-10-ce43cf753af2>:4: SettingWithCopyWarning: \n",
      "A value is trying to be set on a copy of a slice from a DataFrame.\n",
      "Try using .loc[row_indexer,col_indexer] = value instead\n",
      "\n",
      "See the caveats in the documentation: https://pandas.pydata.org/pandas-docs/stable/user_guide/indexing.html#returning-a-view-versus-a-copy\n",
      "  df_s['Com menção Dr. Sarrubbo'] = df_s['Título'].str.contains('Sarrubbo') |df_s['Título'].str.contains('SARRUBBO')\n"
     ]
    },
    {
     "data": {
      "text/html": [
       "<div>\n",
       "<style scoped>\n",
       "    .dataframe tbody tr th:only-of-type {\n",
       "        vertical-align: middle;\n",
       "    }\n",
       "\n",
       "    .dataframe tbody tr th {\n",
       "        vertical-align: top;\n",
       "    }\n",
       "\n",
       "    .dataframe thead th {\n",
       "        text-align: right;\n",
       "    }\n",
       "</style>\n",
       "<table border=\"1\" class=\"dataframe\">\n",
       "  <thead>\n",
       "    <tr style=\"text-align: right;\">\n",
       "      <th></th>\n",
       "      <th>Natureza</th>\n",
       "      <th>Título</th>\n",
       "      <th>Url</th>\n",
       "      <th>Com menção Dr. Sarrubbo</th>\n",
       "    </tr>\n",
       "    <tr>\n",
       "      <th>Data</th>\n",
       "      <th></th>\n",
       "      <th></th>\n",
       "      <th></th>\n",
       "      <th></th>\n",
       "    </tr>\n",
       "  </thead>\n",
       "  <tbody>\n",
       "    <tr>\n",
       "      <th>2022-05-06</th>\n",
       "      <td>CRIMINAL</td>\n",
       "      <td>Condenado a 16 anos de prisão homem que matou ...</td>\n",
       "      <td>https://www.mpsp.mp.br/noticias#?page=1</td>\n",
       "      <td>False</td>\n",
       "    </tr>\n",
       "    <tr>\n",
       "      <th>2022-05-06</th>\n",
       "      <td>ADMINISTRAÇÃO SUPERIOR E GESTÃO</td>\n",
       "      <td>SISMP Digital ganha módulo PANI, para andament...</td>\n",
       "      <td>https://www.mpsp.mp.br/noticias#?page=1</td>\n",
       "      <td>False</td>\n",
       "    </tr>\n",
       "    <tr>\n",
       "      <th>2022-05-06</th>\n",
       "      <td>CRIMINAL</td>\n",
       "      <td>Em entrevista ao MPSP+, promotor de Justiça ex...</td>\n",
       "      <td>https://www.mpsp.mp.br/noticias#?page=1</td>\n",
       "      <td>False</td>\n",
       "    </tr>\n",
       "    <tr>\n",
       "      <th>2022-05-06</th>\n",
       "      <td>CRIMINAL</td>\n",
       "      <td>Denunciado por matar mulher grávida em Guarulh...</td>\n",
       "      <td>https://www.mpsp.mp.br/noticias#?page=1</td>\n",
       "      <td>False</td>\n",
       "    </tr>\n",
       "    <tr>\n",
       "      <th>2022-05-06</th>\n",
       "      <td>TUTELA COLETIVA E CÍVEL</td>\n",
       "      <td>Sede do MPSP ganha iluminação especial em camp...</td>\n",
       "      <td>https://www.mpsp.mp.br/noticias#?page=1</td>\n",
       "      <td>False</td>\n",
       "    </tr>\n",
       "    <tr>\n",
       "      <th>...</th>\n",
       "      <td>...</td>\n",
       "      <td>...</td>\n",
       "      <td>...</td>\n",
       "      <td>...</td>\n",
       "    </tr>\n",
       "    <tr>\n",
       "      <th>2020-04-06</th>\n",
       "      <td>ADMINISTRAÇÃO SUPERIOR E GESTÃO</td>\n",
       "      <td>Promotoria de Justiça de Brodowski atende por ...</td>\n",
       "      <td>https://www.mpsp.mp.br/noticias#?page=376</td>\n",
       "      <td>False</td>\n",
       "    </tr>\n",
       "    <tr>\n",
       "      <th>2020-04-06</th>\n",
       "      <td>ADMINISTRAÇÃO SUPERIOR E GESTÃO</td>\n",
       "      <td>Gaeco - Núcleo Piracicaba atende por e-mail e ...</td>\n",
       "      <td>https://www.mpsp.mp.br/noticias#?page=376</td>\n",
       "      <td>False</td>\n",
       "    </tr>\n",
       "    <tr>\n",
       "      <th>2020-04-06</th>\n",
       "      <td>ADMINISTRAÇÃO SUPERIOR E GESTÃO</td>\n",
       "      <td>Promotoria obtém R$ 1,5 milhão para saúde em m...</td>\n",
       "      <td>https://www.mpsp.mp.br/noticias#?page=376</td>\n",
       "      <td>False</td>\n",
       "    </tr>\n",
       "    <tr>\n",
       "      <th>2020-04-06</th>\n",
       "      <td>TUTELA COLETIVA E CÍVEL</td>\n",
       "      <td>Em Araraquara, R$ 2,2 mi são revertidos para s...</td>\n",
       "      <td>https://www.mpsp.mp.br/noticias#?page=376</td>\n",
       "      <td>False</td>\n",
       "    </tr>\n",
       "    <tr>\n",
       "      <th>2020-04-06</th>\n",
       "      <td>ADMINISTRAÇÃO SUPERIOR E GESTÃO</td>\n",
       "      <td>Total revertido em favor da saúde por promotor...</td>\n",
       "      <td>https://www.mpsp.mp.br/noticias#?page=376</td>\n",
       "      <td>False</td>\n",
       "    </tr>\n",
       "  </tbody>\n",
       "</table>\n",
       "<p>2256 rows × 4 columns</p>\n",
       "</div>"
      ],
      "text/plain": [
       "                                   Natureza  \\\n",
       "Data                                          \n",
       "2022-05-06                         CRIMINAL   \n",
       "2022-05-06  ADMINISTRAÇÃO SUPERIOR E GESTÃO   \n",
       "2022-05-06                         CRIMINAL   \n",
       "2022-05-06                         CRIMINAL   \n",
       "2022-05-06          TUTELA COLETIVA E CÍVEL   \n",
       "...                                     ...   \n",
       "2020-04-06  ADMINISTRAÇÃO SUPERIOR E GESTÃO   \n",
       "2020-04-06  ADMINISTRAÇÃO SUPERIOR E GESTÃO   \n",
       "2020-04-06  ADMINISTRAÇÃO SUPERIOR E GESTÃO   \n",
       "2020-04-06          TUTELA COLETIVA E CÍVEL   \n",
       "2020-04-06  ADMINISTRAÇÃO SUPERIOR E GESTÃO   \n",
       "\n",
       "                                                       Título  \\\n",
       "Data                                                            \n",
       "2022-05-06  Condenado a 16 anos de prisão homem que matou ...   \n",
       "2022-05-06  SISMP Digital ganha módulo PANI, para andament...   \n",
       "2022-05-06  Em entrevista ao MPSP+, promotor de Justiça ex...   \n",
       "2022-05-06  Denunciado por matar mulher grávida em Guarulh...   \n",
       "2022-05-06  Sede do MPSP ganha iluminação especial em camp...   \n",
       "...                                                       ...   \n",
       "2020-04-06  Promotoria de Justiça de Brodowski atende por ...   \n",
       "2020-04-06  Gaeco - Núcleo Piracicaba atende por e-mail e ...   \n",
       "2020-04-06  Promotoria obtém R$ 1,5 milhão para saúde em m...   \n",
       "2020-04-06  Em Araraquara, R$ 2,2 mi são revertidos para s...   \n",
       "2020-04-06  Total revertido em favor da saúde por promotor...   \n",
       "\n",
       "                                                  Url  Com menção Dr. Sarrubbo  \n",
       "Data                                                                            \n",
       "2022-05-06    https://www.mpsp.mp.br/noticias#?page=1                    False  \n",
       "2022-05-06    https://www.mpsp.mp.br/noticias#?page=1                    False  \n",
       "2022-05-06    https://www.mpsp.mp.br/noticias#?page=1                    False  \n",
       "2022-05-06    https://www.mpsp.mp.br/noticias#?page=1                    False  \n",
       "2022-05-06    https://www.mpsp.mp.br/noticias#?page=1                    False  \n",
       "...                                               ...                      ...  \n",
       "2020-04-06  https://www.mpsp.mp.br/noticias#?page=376                    False  \n",
       "2020-04-06  https://www.mpsp.mp.br/noticias#?page=376                    False  \n",
       "2020-04-06  https://www.mpsp.mp.br/noticias#?page=376                    False  \n",
       "2020-04-06  https://www.mpsp.mp.br/noticias#?page=376                    False  \n",
       "2020-04-06  https://www.mpsp.mp.br/noticias#?page=376                    False  \n",
       "\n",
       "[2256 rows x 4 columns]"
      ]
     },
     "execution_count": 10,
     "metadata": {},
     "output_type": "execute_result"
    }
   ],
   "source": [
    "# Opção: restrição do dataframe à gestão Sarrubbo\n",
    "criterio = df['Data'] >= '2020-04-06'\n",
    "df_s = df[criterio]\n",
    "df_s['Com menção Dr. Sarrubbo'] = df_s['Título'].str.contains('Sarrubbo') |df_s['Título'].str.contains('SARRUBBO')\n",
    "df_s = df_s.set_index('Data')\n",
    "df_s"
   ]
  },
  {
   "cell_type": "code",
   "execution_count": 11,
   "metadata": {
    "id": "O7iMB2-WbKVw"
   },
   "outputs": [],
   "source": [
    "df_s.to_excel('noticias_portal_sarrubbo.xlsx')"
   ]
  },
  {
   "cell_type": "code",
   "execution_count": 12,
   "metadata": {
    "colab": {
     "base_uri": "https://localhost:8080/",
     "height": 488
    },
    "id": "eN6aGPGLDtPm",
    "outputId": "9a8bde3b-478c-456d-8a4f-c511d45813e2"
   },
   "outputs": [
    {
     "data": {
      "text/html": [
       "<div>\n",
       "<style scoped>\n",
       "    .dataframe tbody tr th:only-of-type {\n",
       "        vertical-align: middle;\n",
       "    }\n",
       "\n",
       "    .dataframe tbody tr th {\n",
       "        vertical-align: top;\n",
       "    }\n",
       "\n",
       "    .dataframe thead th {\n",
       "        text-align: right;\n",
       "    }\n",
       "</style>\n",
       "<table border=\"1\" class=\"dataframe\">\n",
       "  <thead>\n",
       "    <tr style=\"text-align: right;\">\n",
       "      <th></th>\n",
       "      <th>Título</th>\n",
       "      <th>Com menção Dr. Sarrubbo</th>\n",
       "    </tr>\n",
       "    <tr>\n",
       "      <th>Data</th>\n",
       "      <th></th>\n",
       "      <th></th>\n",
       "    </tr>\n",
       "  </thead>\n",
       "  <tbody>\n",
       "    <tr>\n",
       "      <th>2020-04-12</th>\n",
       "      <td>33</td>\n",
       "      <td>1.0</td>\n",
       "    </tr>\n",
       "    <tr>\n",
       "      <th>2020-04-19</th>\n",
       "      <td>38</td>\n",
       "      <td>1.0</td>\n",
       "    </tr>\n",
       "    <tr>\n",
       "      <th>2020-04-26</th>\n",
       "      <td>32</td>\n",
       "      <td>3.0</td>\n",
       "    </tr>\n",
       "    <tr>\n",
       "      <th>2020-05-03</th>\n",
       "      <td>30</td>\n",
       "      <td>2.0</td>\n",
       "    </tr>\n",
       "    <tr>\n",
       "      <th>2020-05-10</th>\n",
       "      <td>35</td>\n",
       "      <td>2.0</td>\n",
       "    </tr>\n",
       "    <tr>\n",
       "      <th>...</th>\n",
       "      <td>...</td>\n",
       "      <td>...</td>\n",
       "    </tr>\n",
       "    <tr>\n",
       "      <th>2022-04-10</th>\n",
       "      <td>26</td>\n",
       "      <td>1.0</td>\n",
       "    </tr>\n",
       "    <tr>\n",
       "      <th>2022-04-17</th>\n",
       "      <td>19</td>\n",
       "      <td>3.0</td>\n",
       "    </tr>\n",
       "    <tr>\n",
       "      <th>2022-04-24</th>\n",
       "      <td>13</td>\n",
       "      <td>3.0</td>\n",
       "    </tr>\n",
       "    <tr>\n",
       "      <th>2022-05-01</th>\n",
       "      <td>6</td>\n",
       "      <td>0.0</td>\n",
       "    </tr>\n",
       "    <tr>\n",
       "      <th>2022-05-08</th>\n",
       "      <td>24</td>\n",
       "      <td>3.0</td>\n",
       "    </tr>\n",
       "  </tbody>\n",
       "</table>\n",
       "<p>109 rows × 2 columns</p>\n",
       "</div>"
      ],
      "text/plain": [
       "            Título  Com menção Dr. Sarrubbo\n",
       "Data                                       \n",
       "2020-04-12      33                      1.0\n",
       "2020-04-19      38                      1.0\n",
       "2020-04-26      32                      3.0\n",
       "2020-05-03      30                      2.0\n",
       "2020-05-10      35                      2.0\n",
       "...            ...                      ...\n",
       "2022-04-10      26                      1.0\n",
       "2022-04-17      19                      3.0\n",
       "2022-04-24      13                      3.0\n",
       "2022-05-01       6                      0.0\n",
       "2022-05-08      24                      3.0\n",
       "\n",
       "[109 rows x 2 columns]"
      ]
     },
     "execution_count": 12,
     "metadata": {},
     "output_type": "execute_result"
    }
   ],
   "source": [
    "a = df_s.groupby(pd.Grouper(freq='W'))['Com menção Dr. Sarrubbo'].sum()\n",
    "b = df_s.groupby(pd.Grouper(freq='W'))['Título'].count()\n",
    "a = pd.DataFrame(a)\n",
    "b = pd.DataFrame(b)\n",
    "df_1 = b.join(a)\n",
    "df_1"
   ]
  },
  {
   "cell_type": "code",
   "execution_count": 13,
   "metadata": {
    "colab": {
     "base_uri": "https://localhost:8080/",
     "height": 488
    },
    "id": "ukGHxqovwiWb",
    "outputId": "1d0d702a-6df9-4299-9d9f-9dfd6ceac014"
   },
   "outputs": [
    {
     "data": {
      "text/html": [
       "<div>\n",
       "<style scoped>\n",
       "    .dataframe tbody tr th:only-of-type {\n",
       "        vertical-align: middle;\n",
       "    }\n",
       "\n",
       "    .dataframe tbody tr th {\n",
       "        vertical-align: top;\n",
       "    }\n",
       "\n",
       "    .dataframe thead th {\n",
       "        text-align: right;\n",
       "    }\n",
       "</style>\n",
       "<table border=\"1\" class=\"dataframe\">\n",
       "  <thead>\n",
       "    <tr style=\"text-align: right;\">\n",
       "      <th></th>\n",
       "      <th>Título</th>\n",
       "      <th>Sem menção</th>\n",
       "      <th>Com menção Dr. Sarrubbo</th>\n",
       "    </tr>\n",
       "    <tr>\n",
       "      <th>Data</th>\n",
       "      <th></th>\n",
       "      <th></th>\n",
       "      <th></th>\n",
       "    </tr>\n",
       "  </thead>\n",
       "  <tbody>\n",
       "    <tr>\n",
       "      <th>2020-04-12</th>\n",
       "      <td>33</td>\n",
       "      <td>32.0</td>\n",
       "      <td>1.0</td>\n",
       "    </tr>\n",
       "    <tr>\n",
       "      <th>2020-04-19</th>\n",
       "      <td>38</td>\n",
       "      <td>37.0</td>\n",
       "      <td>1.0</td>\n",
       "    </tr>\n",
       "    <tr>\n",
       "      <th>2020-04-26</th>\n",
       "      <td>32</td>\n",
       "      <td>29.0</td>\n",
       "      <td>3.0</td>\n",
       "    </tr>\n",
       "    <tr>\n",
       "      <th>2020-05-03</th>\n",
       "      <td>30</td>\n",
       "      <td>28.0</td>\n",
       "      <td>2.0</td>\n",
       "    </tr>\n",
       "    <tr>\n",
       "      <th>2020-05-10</th>\n",
       "      <td>35</td>\n",
       "      <td>33.0</td>\n",
       "      <td>2.0</td>\n",
       "    </tr>\n",
       "    <tr>\n",
       "      <th>...</th>\n",
       "      <td>...</td>\n",
       "      <td>...</td>\n",
       "      <td>...</td>\n",
       "    </tr>\n",
       "    <tr>\n",
       "      <th>2022-04-10</th>\n",
       "      <td>26</td>\n",
       "      <td>25.0</td>\n",
       "      <td>1.0</td>\n",
       "    </tr>\n",
       "    <tr>\n",
       "      <th>2022-04-17</th>\n",
       "      <td>19</td>\n",
       "      <td>16.0</td>\n",
       "      <td>3.0</td>\n",
       "    </tr>\n",
       "    <tr>\n",
       "      <th>2022-04-24</th>\n",
       "      <td>13</td>\n",
       "      <td>10.0</td>\n",
       "      <td>3.0</td>\n",
       "    </tr>\n",
       "    <tr>\n",
       "      <th>2022-05-01</th>\n",
       "      <td>6</td>\n",
       "      <td>6.0</td>\n",
       "      <td>0.0</td>\n",
       "    </tr>\n",
       "    <tr>\n",
       "      <th>2022-05-08</th>\n",
       "      <td>24</td>\n",
       "      <td>21.0</td>\n",
       "      <td>3.0</td>\n",
       "    </tr>\n",
       "  </tbody>\n",
       "</table>\n",
       "<p>109 rows × 3 columns</p>\n",
       "</div>"
      ],
      "text/plain": [
       "            Título  Sem menção  Com menção Dr. Sarrubbo\n",
       "Data                                                   \n",
       "2020-04-12      33        32.0                      1.0\n",
       "2020-04-19      38        37.0                      1.0\n",
       "2020-04-26      32        29.0                      3.0\n",
       "2020-05-03      30        28.0                      2.0\n",
       "2020-05-10      35        33.0                      2.0\n",
       "...            ...         ...                      ...\n",
       "2022-04-10      26        25.0                      1.0\n",
       "2022-04-17      19        16.0                      3.0\n",
       "2022-04-24      13        10.0                      3.0\n",
       "2022-05-01       6         6.0                      0.0\n",
       "2022-05-08      24        21.0                      3.0\n",
       "\n",
       "[109 rows x 3 columns]"
      ]
     },
     "execution_count": 13,
     "metadata": {},
     "output_type": "execute_result"
    }
   ],
   "source": [
    "df_1['Sem menção'] = df_1['Título']-df_1['Com menção Dr. Sarrubbo']\n",
    "df_1[['Título', 'Sem menção', 'Com menção Dr. Sarrubbo']]"
   ]
  },
  {
   "cell_type": "code",
   "execution_count": 14,
   "metadata": {
    "id": "4uN3tSTrAUYr"
   },
   "outputs": [],
   "source": [
    "df_1[['Título', 'Sem menção', 'Com menção Dr. Sarrubbo']].to_csv('N_de_mencoes.txt')"
   ]
  },
  {
   "cell_type": "code",
   "execution_count": 21,
   "metadata": {
    "colab": {
     "base_uri": "https://localhost:8080/",
     "height": 626
    },
    "id": "eRt7aRGYwj5n",
    "outputId": "6cd93079-2b1d-4e44-85ac-26aec41e7605"
   },
   "outputs": [
    {
     "data": {
      "text/plain": [
       "<matplotlib.axes._subplots.AxesSubplot at 0x2979ebeb0a0>"
      ]
     },
     "execution_count": 21,
     "metadata": {},
     "output_type": "execute_result"
    },
    {
     "data": {
      "image/png": "[encoded data removed]",
      "text/plain": [
       "<Figure size 1440x360 with 1 Axes>"
      ]
     },
     "metadata": {
      "needs_background": "light"
     },
     "output_type": "display_data"
    }
   ],
   "source": [
    "df_1[['Sem menção', 'Com menção Dr. Sarrubbo']].plot.bar(figsize=(20,5), stacked=True, title='Notícias')"
   ]
  },
  {
   "cell_type": "code",
   "execution_count": 22,
   "metadata": {
    "colab": {
     "base_uri": "https://localhost:8080/",
     "height": 566
    },
    "id": "nfXazPsqBxNl",
    "outputId": "8fc750de-be6a-491f-d14b-fbef17e3d10f"
   },
   "outputs": [
    {
     "data": {
      "text/plain": [
       "<matplotlib.axes._subplots.AxesSubplot at 0x2979eb0e550>"
      ]
     },
     "execution_count": 22,
     "metadata": {},
     "output_type": "execute_result"
    },
    {
     "data": {
      "image/png": "[encoded data removed]",
      "text/plain": [
       "<Figure size 1440x576 with 1 Axes>"
      ]
     },
     "metadata": {
      "needs_background": "light"
     },
     "output_type": "display_data"
    }
   ],
   "source": [
    "df_1['Com menção Dr. Sarrubbo'].plot(figsize=(20,8), title='Menções Dr. Sarrubbo')"
   ]
  },
  {
   "cell_type": "code",
   "execution_count": 23,
   "metadata": {},
   "outputs": [
    {
     "data": {
      "text/plain": [
       "<matplotlib.axes._subplots.AxesSubplot at 0x2979eb794f0>"
      ]
     },
     "execution_count": 23,
     "metadata": {},
     "output_type": "execute_result"
    },
    {
     "data": {
      "image/png": "[encoded data removed]",
      "text/plain": [
       "<Figure size 1440x576 with 1 Axes>"
      ]
     },
     "metadata": {
      "needs_background": "light"
     },
     "output_type": "display_data"
    }
   ],
   "source": [
    "df_1['Com menção Dr. Sarrubbo'].plot.bar(figsize=(20,8), title='Menções Dr. Sarrubbo')"
   ]
  }
 ],
 "metadata": {
  "colab": {
   "collapsed_sections": [],
   "name": "portal_MP_noticias.ipynb",
   "provenance": []
  },
  "kernelspec": {
   "display_name": "Python 3",
   "language": "python",
   "name": "python3"
  },
  "language_info": {
   "codemirror_mode": {
    "name": "ipython",
    "version": 3
   },
   "file_extension": ".py",
   "mimetype": "text/x-python",
   "name": "python",
   "nbconvert_exporter": "python",
   "pygments_lexer": "ipython3",
   "version": "3.8.3"
  }
 },
 "nbformat": 4,
 "nbformat_minor": 1
}
